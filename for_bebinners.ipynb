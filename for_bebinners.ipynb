{
 "cells": [
  {
   "cell_type": "markdown",
   "metadata": {
    "colab_type": "text",
    "id": "S8QMCEcd9x-d"
   },
   "source": [
    "# ML basics with keras"
   ]
  },
  {
   "cell_type": "markdown",
   "metadata": {
    "colab_type": "text",
    "id": "_m1bKsqT9-0O"
   },
   "source": [
    "## Basic classification: Classify images of clothing"
   ]
  },
  {
   "cell_type": "code",
   "execution_count": null,
   "metadata": {
    "colab": {
     "base_uri": "https://localhost:8080/",
     "height": 34
    },
    "colab_type": "code",
    "id": "5MWL2kTq-A70",
    "outputId": "ecf913e5-3ff0-47e4-88ac-53da99e66664"
   },
   "outputs": [],
   "source": [
    "import tensorflow as tf\n",
    "from tensorflow import keras\n",
    "import numpy as np\n",
    "import matplotlib.pyplot as plt\n",
    "\n",
    "print(tf.__version__)"
   ]
  },
  {
   "cell_type": "code",
   "execution_count": null,
   "metadata": {
    "colab": {
     "base_uri": "https://localhost:8080/",
     "height": 173
    },
    "colab_type": "code",
    "id": "kHdXSZ48Fe4Z",
    "outputId": "37749eab-3255-411d-e13c-860bd17df862"
   },
   "outputs": [],
   "source": [
    "fashion_mnist = keras.datasets.fashion_mnist\n",
    "(train_img, train_label), (test_img, test_label) = fashion_mnist.load_data()"
   ]
  },
  {
   "cell_type": "markdown",
   "metadata": {
    "colab_type": "text",
    "id": "Y0ja4XMiF6SR"
   },
   "source": [
    "* img = 28*28. pixel from 0 to 255\n",
    "* label is an array of integers, ranging from 0 to 9\n",
    "* train_img and train_label are arrays\n",
    "* test_img and test_label are arrays"
   ]
  },
  {
   "cell_type": "markdown",
   "metadata": {
    "colab_type": "text",
    "id": "oMF370-QGu2a"
   },
   "source": [
    "* Label\tClass\n",
    "* 0\tT-shirt/top\n",
    "* 1\tTrouser\n",
    "* 2\tPullover\n",
    "* 3\tDress\n",
    "* 4\tCoat\n",
    "* 5\tSandal\n",
    "* 6\tShirt\n",
    "* 7\tSneaker\n",
    "* 8\tBag\n",
    "* 9\tAnkle boot"
   ]
  },
  {
   "cell_type": "code",
   "execution_count": null,
   "metadata": {
    "colab": {},
    "colab_type": "code",
    "id": "YyBUIpYDG7FI"
   },
   "outputs": [],
   "source": [
    "class_names = ['T-shirt/top', 'Trouser', 'Pullover', \n",
    "               'Dress', 'Coat', 'Sandal', \n",
    "               'Shirt', 'Sneaker', 'Bag', \n",
    "               'Ankle boot']"
   ]
  },
  {
   "cell_type": "code",
   "execution_count": null,
   "metadata": {
    "colab": {
     "base_uri": "https://localhost:8080/",
     "height": 85
    },
    "colab_type": "code",
    "id": "CDbIIGHDHQ7c",
    "outputId": "df461dd6-4bf1-4876-fbb7-a801b68d9f45"
   },
   "outputs": [],
   "source": [
    "print(train_img.shape)\n",
    "print(test_label.shape)\n",
    "print(test_img.shape)\n",
    "print(test_label.shape)"
   ]
  },
  {
   "cell_type": "code",
   "execution_count": null,
   "metadata": {
    "colab": {
     "base_uri": "https://localhost:8080/",
     "height": 85
    },
    "colab_type": "code",
    "id": "RHR8LbtuF2Fu",
    "outputId": "0f72ad5c-d6be-4bc6-8d09-dbf1f39e7706"
   },
   "outputs": [],
   "source": [
    "print(len(train_img))\n",
    "print(len(test_label))\n",
    "print(len(test_img))\n",
    "print(len(test_label))"
   ]
  },
  {
   "cell_type": "code",
   "execution_count": null,
   "metadata": {
    "colab": {
     "base_uri": "https://localhost:8080/",
     "height": 51
    },
    "colab_type": "code",
    "id": "zIVZFMdRHcpL",
    "outputId": "065c92d8-1b57-458d-b50e-11269907a5ad"
   },
   "outputs": [],
   "source": [
    "print(train_label)\n",
    "print(test_label)"
   ]
  },
  {
   "cell_type": "code",
   "execution_count": null,
   "metadata": {
    "colab": {
     "base_uri": "https://localhost:8080/",
     "height": 51
    },
    "colab_type": "code",
    "id": "Pu95bAwSHl6l",
    "outputId": "7720319b-fc88-452b-cb7b-cf39345c2ef5"
   },
   "outputs": [],
   "source": [
    "print(set(train_label))\n",
    "print(set(test_label))"
   ]
  },
  {
   "cell_type": "code",
   "execution_count": null,
   "metadata": {
    "colab": {
     "base_uri": "https://localhost:8080/",
     "height": 265
    },
    "colab_type": "code",
    "id": "BHOTP_wFHxBB",
    "outputId": "69aebf44-c2c9-4dcf-bac9-87ee6eddd3ee"
   },
   "outputs": [],
   "source": [
    "plt.figure()\n",
    "plt.imshow(train_img[0])\n",
    "plt.colorbar()\n",
    "plt.show()"
   ]
  },
  {
   "cell_type": "code",
   "execution_count": null,
   "metadata": {
    "colab": {
     "base_uri": "https://localhost:8080/",
     "height": 1000
    },
    "colab_type": "code",
    "id": "JdCOm8ZbJ2Nt",
    "outputId": "0f6f1733-3394-44d3-88d9-beca5e33022e"
   },
   "outputs": [],
   "source": [
    "train_img[0]"
   ]
  },
  {
   "cell_type": "code",
   "execution_count": null,
   "metadata": {
    "colab": {},
    "colab_type": "code",
    "id": "Al0mh7pXJ8JM"
   },
   "outputs": [],
   "source": [
    "train_img = train_img / 255\n",
    "test_img = test_img / 255"
   ]
  },
  {
   "cell_type": "code",
   "execution_count": null,
   "metadata": {
    "colab": {
     "base_uri": "https://localhost:8080/",
     "height": 1000
    },
    "colab_type": "code",
    "id": "_Q3KD4Q2LH_r",
    "outputId": "61bbb98c-f7ca-493c-9dc4-bf2f0ba46943"
   },
   "outputs": [],
   "source": [
    "train_img[0]"
   ]
  },
  {
   "cell_type": "code",
   "execution_count": null,
   "metadata": {
    "colab": {
     "base_uri": "https://localhost:8080/",
     "height": 574
    },
    "colab_type": "code",
    "id": "MDG5fxCcLMpE",
    "outputId": "07414c11-07ea-40c9-c61d-64f07b84fdcb"
   },
   "outputs": [],
   "source": [
    "plt.figure(figsize=(10, 10))\n",
    "for i in range(30):\n",
    "    plt.subplot(5, 6, i + 1)\n",
    "    plt.xticks([])\n",
    "    plt.yticks([])\n",
    "    plt.grid(False)\n",
    "    plt.imshow(train_img[i], cmap=plt.cm.binary)\n",
    "    plt.xlabel(class_names[train_label[i]])\n",
    "plt.show()"
   ]
  },
  {
   "cell_type": "code",
   "execution_count": null,
   "metadata": {
    "colab": {},
    "colab_type": "code",
    "id": "KuELT_oDqrHp"
   },
   "outputs": [],
   "source": [
    "model = keras.Sequential([\n",
    "                          keras.layers.Flatten(input_shape=(28, 28)),\n",
    "                          keras.layers.Dense(128, activation='relu'),\n",
    "                          keras.layers.Dense(10)\n",
    "])"
   ]
  },
  {
   "cell_type": "markdown",
   "metadata": {
    "colab_type": "text",
    "id": "stzobpuBbS7j"
   },
   "source": [
    "* flatten layer transforms from a 2 dim array 28*28 to 1 dim array 28*28 = 784 pixel\n",
    "* flatten layer unstacks rows of pixels in the img and liné them up\n",
    "* flatten layer has no parameter to learn, only reformats the data\n",
    "*  dense layer caculates output = activation(dot(input, kernel) + bias))\n",
    "* 1st dense layer has 128 nodes (neurons)\n",
    "* 2nd has a logit array with length of 10\n",
    "* each node contains a score that indicates the current image belongs to one of the 10 classes"
   ]
  },
  {
   "cell_type": "markdown",
   "metadata": {
    "colab_type": "text",
    "id": "auJ8Leqqu6ow"
   },
   "source": [
    "* Before train, compile model by\n",
    "* loss function\n",
    "* optimizer\n",
    "* metric. 'accuracy' is used to measure the fraction of the image that are correctly classified"
   ]
  },
  {
   "cell_type": "code",
   "execution_count": null,
   "metadata": {
    "colab": {},
    "colab_type": "code",
    "id": "irXcAg4E9t_X"
   },
   "outputs": [],
   "source": [
    "model.compile(optimizer='adam',\n",
    "              loss=tf.keras.losses.SparseCategoricalCrossentropy(from_logits=True),\n",
    "              metrics=['accuracy'])"
   ]
  },
  {
   "cell_type": "markdown",
   "metadata": {
    "colab_type": "text",
    "id": "NLNamciU-6cd"
   },
   "source": [
    "* Training model requires the following steps:\n",
    "* feed training data to the model"
   ]
  },
  {
   "cell_type": "code",
   "execution_count": null,
   "metadata": {
    "colab": {
     "base_uri": "https://localhost:8080/",
     "height": 204
    },
    "colab_type": "code",
    "id": "IK-Th6WIAqcG",
    "outputId": "7677f372-0b72-4ad8-d569-2b9f08d4dd30"
   },
   "outputs": [],
   "source": [
    "model.fit(train_img, train_label, epochs=5)"
   ]
  },
  {
   "cell_type": "code",
   "execution_count": null,
   "metadata": {
    "colab": {
     "base_uri": "https://localhost:8080/",
     "height": 68
    },
    "colab_type": "code",
    "id": "rKL_VZ2RGteQ",
    "outputId": "fb918110-c5dd-4b45-f952-cfe97977a559"
   },
   "outputs": [],
   "source": [
    "test_loss, test_acc = model.evaluate(test_img, test_label, verbose=2)\n",
    "print('\\nTest acc', test_acc)"
   ]
  },
  {
   "cell_type": "code",
   "execution_count": null,
   "metadata": {
    "colab": {},
    "colab_type": "code",
    "id": "gNLOPXFVIBu3"
   },
   "outputs": [],
   "source": [
    "probability_model = tf.keras.Sequential([\n",
    "                                         model,\n",
    "                                         tf.keras.layers.Softmax()\n",
    "])"
   ]
  },
  {
   "cell_type": "code",
   "execution_count": null,
   "metadata": {
    "colab": {},
    "colab_type": "code",
    "id": "RO2ujTHoIPCW"
   },
   "outputs": [],
   "source": [
    "prediction = probability_model.predict(test_img)"
   ]
  },
  {
   "cell_type": "code",
   "execution_count": null,
   "metadata": {
    "colab": {
     "base_uri": "https://localhost:8080/",
     "height": 68
    },
    "colab_type": "code",
    "id": "3WsJ0XtrIZGJ",
    "outputId": "e6a91b15-7cd2-4d5f-c5e6-eb60747eb2fc"
   },
   "outputs": [],
   "source": [
    "prediction[0]"
   ]
  },
  {
   "cell_type": "code",
   "execution_count": null,
   "metadata": {
    "colab": {
     "base_uri": "https://localhost:8080/",
     "height": 34
    },
    "colab_type": "code",
    "id": "gE1Yu_oRIgnc",
    "outputId": "520ab5f3-12e4-41eb-a1e6-ccc22af6a727"
   },
   "outputs": [],
   "source": [
    "max(prediction[0])"
   ]
  },
  {
   "cell_type": "code",
   "execution_count": null,
   "metadata": {
    "colab": {
     "base_uri": "https://localhost:8080/",
     "height": 34
    },
    "colab_type": "code",
    "id": "kX0p53XJIk3z",
    "outputId": "9d996e71-6049-4314-d5e2-4bbfc4431da0"
   },
   "outputs": [],
   "source": [
    "np.argmax(prediction[0])  # return the indice of maximum value"
   ]
  },
  {
   "cell_type": "code",
   "execution_count": null,
   "metadata": {
    "colab": {
     "base_uri": "https://localhost:8080/",
     "height": 34
    },
    "colab_type": "code",
    "id": "coe3UDv6I2qt",
    "outputId": "34a0d13c-1816-4add-d27e-de49ed5c819c"
   },
   "outputs": [],
   "source": [
    "test_label[0]"
   ]
  },
  {
   "cell_type": "code",
   "execution_count": null,
   "metadata": {
    "colab": {},
    "colab_type": "code",
    "id": "nvA4rVBaRopc"
   },
   "outputs": [],
   "source": [
    "def plot_image(i, predictions_array, true_label, img):\n",
    "  true_label, img = true_label[i], img[i]\n",
    "  plt.grid(False)\n",
    "  plt.xticks([])\n",
    "  plt.yticks([])\n",
    "\n",
    "  plt.imshow(img, cmap=plt.cm.binary)\n",
    "\n",
    "  predicted_label = np.argmax(predictions_array)\n",
    "  if predicted_label == true_label:\n",
    "    color = 'blue'\n",
    "  else:\n",
    "    color = 'red'\n",
    "\n",
    "  plt.xlabel(\"{} {:2.0f}% ({})\".format(class_names[predicted_label],\n",
    "                                100*np.max(predictions_array),\n",
    "                                class_names[true_label]),\n",
    "                                color=color)\n",
    "\n",
    "def plot_value_array(i, predictions_array, true_label):\n",
    "  true_label = true_label[i]\n",
    "  plt.grid(False)\n",
    "  plt.xticks(range(10))\n",
    "  plt.yticks([])\n",
    "  thisplot = plt.bar(range(10), predictions_array, color=\"#777777\")\n",
    "  plt.ylim([0, 1])\n",
    "  predicted_label = np.argmax(predictions_array)\n",
    "\n",
    "  thisplot[predicted_label].set_color('red')\n",
    "  thisplot[true_label].set_color('blue')"
   ]
  },
  {
   "cell_type": "code",
   "execution_count": null,
   "metadata": {
    "colab": {
     "base_uri": "https://localhost:8080/",
     "height": 211
    },
    "colab_type": "code",
    "id": "UM9OCYQqRsEO",
    "outputId": "d7d7eaa4-0a37-48fb-bfe2-dac77dd173b7"
   },
   "outputs": [],
   "source": [
    "i = 0\n",
    "plt.figure(figsize=(6,3))\n",
    "plt.subplot(1,2,1)\n",
    "plot_image(i, prediction[i], test_label, test_img)\n",
    "plt.subplot(1,2,2)\n",
    "plot_value_array(i, prediction[i],  test_label)\n",
    "plt.show()"
   ]
  },
  {
   "cell_type": "code",
   "execution_count": null,
   "metadata": {
    "colab": {
     "base_uri": "https://localhost:8080/",
     "height": 211
    },
    "colab_type": "code",
    "id": "Ef8Ib0eoSOUR",
    "outputId": "ab5ecbc2-ca98-42aa-ea2c-86933445e4be"
   },
   "outputs": [],
   "source": [
    "i = 12\n",
    "plt.figure(figsize=(6,3))\n",
    "plt.subplot(1,2,1)\n",
    "plot_image(i, prediction[i], test_label, test_img)\n",
    "plt.subplot(1,2,2)\n",
    "plot_value_array(i, prediction[i],  test_label)\n",
    "plt.show()"
   ]
  },
  {
   "cell_type": "code",
   "execution_count": null,
   "metadata": {
    "colab": {
     "base_uri": "https://localhost:8080/",
     "height": 727
    },
    "colab_type": "code",
    "id": "35yO5PVxSajl",
    "outputId": "fc93f73b-4a84-4ecd-ee9a-8aa8b408fa33"
   },
   "outputs": [],
   "source": [
    "num_rows = 5\n",
    "num_cols = 3\n",
    "num_images = num_rows*num_cols\n",
    "plt.figure(figsize=(2*2*num_cols, 2*num_rows))\n",
    "for i in range(num_images):\n",
    "  plt.subplot(num_rows, 2*num_cols, 2*i+1)\n",
    "  plot_image(i, prediction[i], test_label, test_img)\n",
    "  plt.subplot(num_rows, 2*num_cols, 2*i+2)\n",
    "  plot_value_array(i, prediction[i], test_label)\n",
    "plt.tight_layout()\n",
    "plt.show()"
   ]
  },
  {
   "cell_type": "code",
   "execution_count": null,
   "metadata": {
    "colab": {
     "base_uri": "https://localhost:8080/",
     "height": 34
    },
    "colab_type": "code",
    "id": "b7usQRSTSiZR",
    "outputId": "cc3551ce-2043-42c5-821e-22a21a8072a7"
   },
   "outputs": [],
   "source": [
    "img = test_img[1]\n",
    "img.shape"
   ]
  },
  {
   "cell_type": "code",
   "execution_count": null,
   "metadata": {
    "colab": {
     "base_uri": "https://localhost:8080/",
     "height": 34
    },
    "colab_type": "code",
    "id": "qRemNzGtS1EF",
    "outputId": "e14d00ba-9e5a-4d0d-91eb-4550ea9fd8a6"
   },
   "outputs": [],
   "source": [
    "img = (np.expand_dims(img, 0))\n",
    "img.shape"
   ]
  },
  {
   "cell_type": "code",
   "execution_count": null,
   "metadata": {
    "colab": {
     "base_uri": "https://localhost:8080/",
     "height": 85
    },
    "colab_type": "code",
    "id": "FeQD9O50TL2I",
    "outputId": "d8c61482-4d6d-415f-8669-d2ee49f4b5de"
   },
   "outputs": [],
   "source": [
    "prediction_single = probability_model(img)\n",
    "prediction_single"
   ]
  },
  {
   "cell_type": "code",
   "execution_count": null,
   "metadata": {
    "colab": {
     "base_uri": "https://localhost:8080/",
     "height": 300
    },
    "colab_type": "code",
    "id": "1hdMauzlTVH1",
    "outputId": "9c654024-db57-45aa-e5b3-9af5806d0bd7"
   },
   "outputs": [],
   "source": [
    "plot_value_array(1, prediction_single[0], test_label)\n",
    "_ = plt.xticks(range(10), class_names, rotation=45)"
   ]
  },
  {
   "cell_type": "code",
   "execution_count": null,
   "metadata": {
    "colab": {
     "base_uri": "https://localhost:8080/",
     "height": 34
    },
    "colab_type": "code",
    "id": "sy_gRuQ_T7GV",
    "outputId": "d6d5f7e6-7ff9-470e-fe15-a06db6e8232b"
   },
   "outputs": [],
   "source": [
    "np.argmax(prediction_single[0])"
   ]
  },
  {
   "cell_type": "markdown",
   "metadata": {
    "colab_type": "text",
    "id": "NkSVpTjfUSCM"
   },
   "source": [
    "## Basic text classification"
   ]
  },
  {
   "cell_type": "code",
   "execution_count": 12,
   "metadata": {
    "colab": {},
    "colab_type": "code",
    "id": "vVtL1107Vzpp"
   },
   "outputs": [],
   "source": [
    "import tensorflow as tf\n",
    "import os\n",
    "import shutil"
   ]
  },
  {
   "cell_type": "code",
   "execution_count": 10,
   "metadata": {},
   "outputs": [
    {
     "data": {
      "text/plain": [
       "'2.4.0-dev20200913'"
      ]
     },
     "execution_count": 10,
     "metadata": {},
     "output_type": "execute_result"
    }
   ],
   "source": [
    "tf.__version__"
   ]
  },
  {
   "cell_type": "markdown",
   "metadata": {
    "colab_type": "text",
    "id": "YEclgxgvWziX"
   },
   "source": [
    "* use the Large Movie Review Dataset that contains the text of 50,000 movie reviews from the Internet Movie Database. \n",
    "* These are split into 25,000 reviews for training and 25,000 reviews for testing. \n",
    "* The training and testing sets are balanced, meaning they contain an equal number of positive and negative reviews."
   ]
  },
  {
   "cell_type": "markdown",
   "metadata": {},
   "source": [
    "### Download and explore the IMDB dataset"
   ]
  },
  {
   "cell_type": "code",
   "execution_count": 2,
   "metadata": {
    "colab": {
     "base_uri": "https://localhost:8080/",
     "height": 51
    },
    "colab_type": "code",
    "id": "H7p5uAZ9VpBz",
    "outputId": "238fe389-f461-435a-bcbc-c450f8cebcc4"
   },
   "outputs": [],
   "source": [
    "# url = \"https://ai.stanford.edu/~amaas/data/sentiment/aclImdb_v1.tar.gz\"\n",
    "\n",
    "# dataset = tf.keras.utils.get_file('aclImdb_v1.tar.gz', url,\n",
    "#                                   untar=True, \n",
    "#                                   cache_dir='.', cache_subdir='',)"
   ]
  },
  {
   "cell_type": "code",
   "execution_count": 3,
   "metadata": {
    "colab": {},
    "colab_type": "code",
    "id": "28t_qReNVugM"
   },
   "outputs": [],
   "source": [
    "dataset_dir = os.path.join(os.path.dirname('/media/veec20/Data/duongdq/TF_tutorial/'), 'aclImdb')"
   ]
  },
  {
   "cell_type": "code",
   "execution_count": 4,
   "metadata": {
    "colab": {
     "base_uri": "https://localhost:8080/",
     "height": 34
    },
    "colab_type": "code",
    "id": "N5HfL_OeWfH4",
    "outputId": "cf7495b6-2f4e-4635-8c41-aafdcc7555b2"
   },
   "outputs": [
    {
     "data": {
      "text/plain": [
       "['imdb.vocab', 'imdbEr.txt', 'README', 'test', 'train']"
      ]
     },
     "execution_count": 4,
     "metadata": {},
     "output_type": "execute_result"
    }
   ],
   "source": [
    "os.listdir(dataset_dir)"
   ]
  },
  {
   "cell_type": "code",
   "execution_count": 5,
   "metadata": {
    "colab": {
     "base_uri": "https://localhost:8080/",
     "height": 153
    },
    "colab_type": "code",
    "id": "kbrvhucuW5I7",
    "outputId": "ff61bb16-69f0-465c-caa5-cd456cd743d9"
   },
   "outputs": [
    {
     "data": {
      "text/plain": [
       "['labeledBow.feat',\n",
       " 'neg',\n",
       " 'pos',\n",
       " 'unsup',\n",
       " 'unsupBow.feat',\n",
       " 'urls_neg.txt',\n",
       " 'urls_pos.txt',\n",
       " 'urls_unsup.txt']"
      ]
     },
     "execution_count": 5,
     "metadata": {},
     "output_type": "execute_result"
    }
   ],
   "source": [
    "train_dir = os.path.join(dataset_dir, 'train')\n",
    "os.listdir(train_dir)"
   ]
  },
  {
   "cell_type": "markdown",
   "metadata": {
    "colab_type": "text",
    "id": "IlgzCRxRXHms"
   },
   "source": [
    "* The aclImdb/train/pos and aclImdb/train/neg directories contain many text files\n",
    "* each of which is a single movie review."
   ]
  },
  {
   "cell_type": "code",
   "execution_count": 6,
   "metadata": {
    "colab": {
     "base_uri": "https://localhost:8080/",
     "height": 1000
    },
    "colab_type": "code",
    "id": "nUHn5EWhXDRv",
    "outputId": "2bad4824-2787-4dca-f0f6-0111aad015ee"
   },
   "outputs": [
    {
     "data": {
      "text/plain": [
       "['0_9.txt',\n",
       " '10000_8.txt',\n",
       " '10001_10.txt',\n",
       " '10002_7.txt',\n",
       " '10003_8.txt',\n",
       " '10004_8.txt',\n",
       " '10005_7.txt',\n",
       " '10006_7.txt',\n",
       " '10007_7.txt',\n",
       " '10008_7.txt',\n",
       " '10009_9.txt',\n",
       " '1000_8.txt',\n",
       " '10010_7.txt',\n",
       " '10011_9.txt',\n",
       " '10012_8.txt',\n",
       " '10013_7.txt',\n",
       " '10014_8.txt',\n",
       " '10015_8.txt',\n",
       " '10016_8.txt',\n",
       " '10017_9.txt',\n",
       " '10018_8.txt',\n",
       " '10019_8.txt',\n",
       " '1001_8.txt',\n",
       " '10020_8.txt',\n",
       " '11_9.txt',\n",
       " '12000_8.txt',\n",
       " '12001_8.txt',\n",
       " '12002_10.txt',\n",
       " '12003_10.txt',\n",
       " '12004_10.txt',\n",
       " '12005_10.txt',\n",
       " '12006_10.txt',\n",
       " '12007_10.txt',\n",
       " '12008_8.txt',\n",
       " '12009_10.txt',\n",
       " '1200_10.txt',\n",
       " '12010_10.txt',\n",
       " '12011_10.txt',\n",
       " '12012_10.txt',\n",
       " '12013_10.txt',\n",
       " '12014_10.txt',\n",
       " '12015_10.txt',\n",
       " '12016_7.txt',\n",
       " '12017_7.txt',\n",
       " '12018_7.txt',\n",
       " '12019_8.txt',\n",
       " '1201_8.txt',\n",
       " '12020_7.txt',\n",
       " '12021_9.txt',\n",
       " '12022_10.txt',\n",
       " '12023_9.txt',\n",
       " '12024_7.txt',\n",
       " '12025_7.txt',\n",
       " '12026_8.txt',\n",
       " '12027_10.txt',\n",
       " '12028_10.txt',\n",
       " '12029_10.txt',\n",
       " '8200_8.txt',\n",
       " '8201_8.txt',\n",
       " '8202_10.txt',\n",
       " '8203_7.txt',\n",
       " '8204_8.txt',\n",
       " '8205_8.txt',\n",
       " '8206_10.txt',\n",
       " '8207_10.txt',\n",
       " '8208_8.txt',\n",
       " '8209_8.txt',\n",
       " '820_10.txt',\n",
       " '8210_7.txt',\n",
       " '8211_7.txt',\n",
       " '8212_7.txt',\n",
       " '8213_9.txt',\n",
       " '8214_7.txt',\n",
       " '8215_7.txt',\n",
       " '8216_8.txt',\n",
       " '8217_8.txt',\n",
       " '8218_7.txt',\n",
       " '8219_7.txt',\n",
       " '821_10.txt',\n",
       " '8220_8.txt',\n",
       " '8221_9.txt',\n",
       " '8222_9.txt',\n",
       " '8223_9.txt',\n",
       " '6300_8.txt',\n",
       " '6301_10.txt',\n",
       " '6302_8.txt',\n",
       " '6303_8.txt',\n",
       " '6304_8.txt',\n",
       " '6305_10.txt',\n",
       " '6306_10.txt',\n",
       " '6307_8.txt',\n",
       " '6308_8.txt',\n",
       " '6309_8.txt',\n",
       " '630_10.txt',\n",
       " '6310_10.txt',\n",
       " '6311_10.txt',\n",
       " '6312_7.txt',\n",
       " '6313_9.txt',\n",
       " '6314_9.txt',\n",
       " '6315_10.txt',\n",
       " '6316_8.txt',\n",
       " '6317_10.txt',\n",
       " '6318_7.txt',\n",
       " '6319_10.txt',\n",
       " '631_10.txt',\n",
       " '6320_10.txt',\n",
       " '6321_7.txt',\n",
       " '6322_7.txt',\n",
       " '6323_7.txt',\n",
       " '6324_8.txt',\n",
       " '6325_7.txt',\n",
       " '4400_10.txt',\n",
       " '4401_9.txt',\n",
       " '4402_8.txt',\n",
       " '4403_10.txt',\n",
       " '4404_9.txt',\n",
       " '4405_8.txt',\n",
       " '4406_9.txt',\n",
       " '4407_8.txt',\n",
       " '4408_8.txt',\n",
       " '4409_10.txt',\n",
       " '440_10.txt',\n",
       " '4410_10.txt',\n",
       " '4411_9.txt',\n",
       " '4412_9.txt',\n",
       " '4413_8.txt',\n",
       " '4414_9.txt',\n",
       " '4415_10.txt',\n",
       " '4416_9.txt',\n",
       " '4417_9.txt',\n",
       " '4418_10.txt',\n",
       " '10021_8.txt',\n",
       " '10039_10.txt',\n",
       " '10056_8.txt',\n",
       " '10073_10.txt',\n",
       " '10090_8.txt',\n",
       " '10107_8.txt',\n",
       " '10137_7.txt',\n",
       " '10154_8.txt',\n",
       " '10171_7.txt',\n",
       " '10189_7.txt',\n",
       " '10205_10.txt',\n",
       " '10222_9.txt',\n",
       " '1023_10.txt',\n",
       " '10265_9.txt',\n",
       " '10282_8.txt',\n",
       " '1029_9.txt',\n",
       " '10316_8.txt',\n",
       " '10333_8.txt',\n",
       " '10350_10.txt',\n",
       " '2500_9.txt',\n",
       " '2501_8.txt',\n",
       " '2502_8.txt',\n",
       " '2503_10.txt',\n",
       " '2504_10.txt',\n",
       " '2505_9.txt',\n",
       " '2506_9.txt',\n",
       " '2507_7.txt',\n",
       " '2508_10.txt',\n",
       " '2509_9.txt',\n",
       " '250_7.txt',\n",
       " '2510_10.txt',\n",
       " '2511_10.txt',\n",
       " '2512_10.txt',\n",
       " '2513_9.txt',\n",
       " '2514_8.txt',\n",
       " '2515_10.txt',\n",
       " '2516_9.txt',\n",
       " '2517_9.txt',\n",
       " '2518_10.txt',\n",
       " '2519_10.txt',\n",
       " '251_10.txt',\n",
       " '2520_10.txt',\n",
       " '2521_10.txt',\n",
       " '2200_9.txt',\n",
       " '2201_10.txt',\n",
       " '2202_10.txt',\n",
       " '2203_8.txt',\n",
       " '2204_10.txt',\n",
       " '2205_8.txt',\n",
       " '2206_7.txt',\n",
       " '2207_9.txt',\n",
       " '2208_7.txt',\n",
       " '2209_8.txt',\n",
       " '220_10.txt',\n",
       " '2210_9.txt',\n",
       " '2211_8.txt',\n",
       " '2212_10.txt',\n",
       " '2213_9.txt',\n",
       " '2214_10.txt',\n",
       " '2215_8.txt',\n",
       " '2216_9.txt',\n",
       " '2217_7.txt',\n",
       " '2218_7.txt',\n",
       " '2219_10.txt',\n",
       " '221_9.txt',\n",
       " '2030_9.txt',\n",
       " '2031_8.txt',\n",
       " '2032_10.txt',\n",
       " '2033_8.txt',\n",
       " '2034_9.txt',\n",
       " '2035_7.txt',\n",
       " '2036_7.txt',\n",
       " '2037_8.txt',\n",
       " '2038_7.txt',\n",
       " '2039_9.txt',\n",
       " '203_7.txt',\n",
       " '2040_7.txt',\n",
       " '2041_7.txt',\n",
       " '2042_7.txt',\n",
       " '2043_7.txt',\n",
       " '2044_8.txt',\n",
       " '2045_9.txt',\n",
       " '2046_8.txt',\n",
       " '2047_10.txt',\n",
       " '2048_7.txt',\n",
       " '2049_7.txt',\n",
       " '1870_10.txt',\n",
       " '1871_10.txt',\n",
       " '1872_7.txt',\n",
       " '1873_8.txt',\n",
       " '1874_10.txt',\n",
       " '1875_10.txt',\n",
       " '1876_10.txt',\n",
       " '1877_7.txt',\n",
       " '1878_10.txt',\n",
       " '1879_10.txt',\n",
       " '187_8.txt',\n",
       " '1880_10.txt',\n",
       " '1881_7.txt',\n",
       " '1882_10.txt',\n",
       " '1883_7.txt',\n",
       " '1884_8.txt',\n",
       " '1885_10.txt',\n",
       " '1886_10.txt',\n",
       " '1887_8.txt',\n",
       " '1888_8.txt',\n",
       " '1889_10.txt',\n",
       " '188_7.txt',\n",
       " '1890_10.txt',\n",
       " '1891_8.txt',\n",
       " '1892_8.txt',\n",
       " '1893_10.txt',\n",
       " '1894_8.txt',\n",
       " '1895_10.txt',\n",
       " '1896_8.txt',\n",
       " '1897_10.txt',\n",
       " '16_7.txt',\n",
       " '1700_8.txt',\n",
       " '1701_10.txt',\n",
       " '1702_9.txt',\n",
       " '1703_8.txt',\n",
       " '1704_8.txt',\n",
       " '1705_10.txt',\n",
       " '1706_9.txt',\n",
       " '1707_10.txt',\n",
       " '1708_10.txt',\n",
       " '1709_8.txt',\n",
       " '170_10.txt',\n",
       " '1710_7.txt',\n",
       " '1711_8.txt',\n",
       " '1712_9.txt',\n",
       " '1713_8.txt',\n",
       " '1714_8.txt',\n",
       " '1715_8.txt',\n",
       " '1716_8.txt',\n",
       " '1717_8.txt',\n",
       " '1718_7.txt',\n",
       " '1719_7.txt',\n",
       " '171_8.txt',\n",
       " '1720_10.txt',\n",
       " '1721_8.txt',\n",
       " '1722_7.txt',\n",
       " '1723_7.txt',\n",
       " '1724_10.txt',\n",
       " '1725_8.txt',\n",
       " '1726_8.txt',\n",
       " '1727_10.txt',\n",
       " '1728_7.txt',\n",
       " '1729_8.txt',\n",
       " '172_10.txt',\n",
       " '1520_7.txt',\n",
       " '1521_8.txt',\n",
       " '1522_8.txt',\n",
       " '1523_9.txt',\n",
       " '1524_7.txt',\n",
       " '1525_9.txt',\n",
       " '1526_9.txt',\n",
       " '1527_7.txt',\n",
       " '1528_8.txt',\n",
       " '1529_10.txt',\n",
       " '152_9.txt',\n",
       " '1530_10.txt',\n",
       " '1531_8.txt',\n",
       " '1532_10.txt',\n",
       " '1533_8.txt',\n",
       " '1534_10.txt',\n",
       " '1535_9.txt',\n",
       " '1536_7.txt',\n",
       " '1537_9.txt',\n",
       " '1538_10.txt',\n",
       " '1539_10.txt',\n",
       " '153_10.txt',\n",
       " '1540_10.txt',\n",
       " '1541_8.txt',\n",
       " '3730_10.txt',\n",
       " '3731_10.txt',\n",
       " '3732_10.txt',\n",
       " '3733_10.txt',\n",
       " '3734_9.txt',\n",
       " '3735_10.txt',\n",
       " '3736_8.txt',\n",
       " '3737_9.txt',\n",
       " '3738_8.txt',\n",
       " '3739_10.txt',\n",
       " '373_10.txt',\n",
       " '3740_9.txt',\n",
       " '3741_8.txt',\n",
       " '3742_9.txt',\n",
       " '3743_10.txt',\n",
       " '3744_10.txt',\n",
       " '3745_10.txt',\n",
       " '3746_10.txt',\n",
       " '3747_10.txt',\n",
       " '3748_10.txt',\n",
       " '3749_9.txt',\n",
       " '374_10.txt',\n",
       " '3750_10.txt',\n",
       " '3751_10.txt',\n",
       " '3752_7.txt',\n",
       " '3753_9.txt',\n",
       " '3754_8.txt',\n",
       " '3755_10.txt',\n",
       " '3756_8.txt',\n",
       " '3757_7.txt',\n",
       " '3758_9.txt',\n",
       " '3759_8.txt',\n",
       " '3560_8.txt',\n",
       " '3561_9.txt',\n",
       " '3562_8.txt',\n",
       " '3563_8.txt',\n",
       " '3564_10.txt',\n",
       " '3565_10.txt',\n",
       " '3566_9.txt',\n",
       " '3567_8.txt',\n",
       " '3568_7.txt',\n",
       " '3569_8.txt',\n",
       " '356_10.txt',\n",
       " '3570_10.txt',\n",
       " '3571_7.txt',\n",
       " '3572_10.txt',\n",
       " '3573_7.txt',\n",
       " '3574_10.txt',\n",
       " '3575_10.txt',\n",
       " '3576_9.txt',\n",
       " '3577_7.txt',\n",
       " '3578_7.txt',\n",
       " '3579_8.txt',\n",
       " '357_10.txt',\n",
       " '3580_10.txt',\n",
       " '3390_8.txt',\n",
       " '3391_7.txt',\n",
       " '3392_7.txt',\n",
       " '3393_9.txt',\n",
       " '3394_10.txt',\n",
       " '3395_9.txt',\n",
       " '3396_7.txt',\n",
       " '3397_10.txt',\n",
       " '3398_10.txt',\n",
       " '3399_10.txt',\n",
       " '339_10.txt',\n",
       " '33_7.txt',\n",
       " '3400_8.txt',\n",
       " '3401_8.txt',\n",
       " '3402_8.txt',\n",
       " '3403_9.txt',\n",
       " '3404_8.txt',\n",
       " '3405_9.txt',\n",
       " '3406_10.txt',\n",
       " '3407_8.txt',\n",
       " '3408_10.txt',\n",
       " '3409_10.txt',\n",
       " '340_10.txt',\n",
       " '3410_9.txt',\n",
       " '3411_9.txt',\n",
       " '3412_8.txt',\n",
       " '3413_10.txt',\n",
       " '3210_8.txt',\n",
       " '3211_7.txt',\n",
       " '3212_7.txt',\n",
       " '3213_10.txt',\n",
       " '3214_10.txt',\n",
       " '3215_10.txt',\n",
       " '3216_8.txt',\n",
       " '3217_8.txt',\n",
       " '3218_9.txt',\n",
       " '3219_10.txt',\n",
       " '321_10.txt',\n",
       " '3220_10.txt',\n",
       " '3221_10.txt',\n",
       " '3222_7.txt',\n",
       " '3223_8.txt',\n",
       " '3224_7.txt',\n",
       " '3225_10.txt',\n",
       " '3226_10.txt',\n",
       " '3227_7.txt',\n",
       " '3228_7.txt',\n",
       " '3229_7.txt',\n",
       " '322_10.txt',\n",
       " '3040_8.txt',\n",
       " '3041_7.txt',\n",
       " '3042_8.txt',\n",
       " '3043_8.txt',\n",
       " '3044_7.txt',\n",
       " '3045_10.txt',\n",
       " '3046_10.txt',\n",
       " '3047_7.txt',\n",
       " '3048_10.txt',\n",
       " '3049_9.txt',\n",
       " '304_10.txt',\n",
       " '3050_9.txt',\n",
       " '3051_9.txt',\n",
       " '3052_10.txt',\n",
       " '3053_8.txt',\n",
       " '3054_7.txt',\n",
       " '3055_9.txt',\n",
       " '3056_8.txt',\n",
       " '3057_8.txt',\n",
       " '3058_9.txt',\n",
       " '3059_8.txt',\n",
       " '305_8.txt',\n",
       " '3060_10.txt',\n",
       " '3061_10.txt',\n",
       " '3062_10.txt',\n",
       " '3063_10.txt',\n",
       " '3064_8.txt',\n",
       " '3065_10.txt',\n",
       " '3066_10.txt',\n",
       " '3067_9.txt',\n",
       " '3068_9.txt',\n",
       " '2880_8.txt',\n",
       " '2881_8.txt',\n",
       " '2882_9.txt',\n",
       " '2883_9.txt',\n",
       " '2884_7.txt',\n",
       " '2885_9.txt',\n",
       " '2886_8.txt',\n",
       " '2887_9.txt',\n",
       " '2888_10.txt',\n",
       " '2889_10.txt',\n",
       " '288_10.txt',\n",
       " '2890_7.txt',\n",
       " '2891_8.txt',\n",
       " '2892_10.txt',\n",
       " '2893_10.txt',\n",
       " '2894_10.txt',\n",
       " '2895_9.txt',\n",
       " '2896_9.txt',\n",
       " '2897_10.txt',\n",
       " '2898_9.txt',\n",
       " '2899_10.txt',\n",
       " '289_10.txt',\n",
       " '28_10.txt',\n",
       " '2900_9.txt',\n",
       " '2901_7.txt',\n",
       " '2700_10.txt',\n",
       " '2701_9.txt',\n",
       " '2702_9.txt',\n",
       " '2703_9.txt',\n",
       " '2704_10.txt',\n",
       " '2705_10.txt',\n",
       " '2706_9.txt',\n",
       " '2707_10.txt',\n",
       " '2708_7.txt',\n",
       " '2709_8.txt',\n",
       " '270_10.txt',\n",
       " '2710_7.txt',\n",
       " '2711_7.txt',\n",
       " '2712_10.txt',\n",
       " '2713_8.txt',\n",
       " '2714_10.txt',\n",
       " '2715_8.txt',\n",
       " '2716_10.txt',\n",
       " '2717_10.txt',\n",
       " '2718_9.txt',\n",
       " '5070_9.txt',\n",
       " '5071_10.txt',\n",
       " '5072_8.txt',\n",
       " '5073_7.txt',\n",
       " '5074_10.txt',\n",
       " '5075_7.txt',\n",
       " '5076_10.txt',\n",
       " '5077_9.txt',\n",
       " '5078_9.txt',\n",
       " '5079_8.txt',\n",
       " '507_10.txt',\n",
       " '5080_10.txt',\n",
       " '5081_8.txt',\n",
       " '5082_7.txt',\n",
       " '5083_8.txt',\n",
       " '5084_7.txt',\n",
       " '5085_7.txt',\n",
       " '5086_7.txt',\n",
       " '5087_7.txt',\n",
       " '5088_8.txt',\n",
       " '5089_9.txt',\n",
       " '508_9.txt',\n",
       " '5090_10.txt',\n",
       " '5091_8.txt',\n",
       " '5092_8.txt',\n",
       " '5093_10.txt',\n",
       " '5094_8.txt',\n",
       " '5095_7.txt',\n",
       " '5096_7.txt',\n",
       " '5097_8.txt',\n",
       " '5098_9.txt',\n",
       " '5099_7.txt',\n",
       " '509_10.txt',\n",
       " '50_10.txt',\n",
       " '4900_8.txt',\n",
       " '4901_9.txt',\n",
       " '4902_8.txt',\n",
       " '4903_10.txt',\n",
       " '4904_10.txt',\n",
       " '4905_10.txt',\n",
       " '4906_9.txt',\n",
       " '4907_8.txt',\n",
       " '4908_10.txt',\n",
       " '4909_8.txt',\n",
       " '490_9.txt',\n",
       " '4910_8.txt',\n",
       " '4911_9.txt',\n",
       " '4912_8.txt',\n",
       " '4913_9.txt',\n",
       " '4914_7.txt',\n",
       " '4915_7.txt',\n",
       " '4916_9.txt',\n",
       " '4917_8.txt',\n",
       " '4918_7.txt',\n",
       " '4919_7.txt',\n",
       " '491_7.txt',\n",
       " '4920_7.txt',\n",
       " '4921_8.txt',\n",
       " '4922_7.txt',\n",
       " '4923_7.txt',\n",
       " '4924_7.txt',\n",
       " '4925_7.txt',\n",
       " '4926_8.txt',\n",
       " '4927_8.txt',\n",
       " '4928_7.txt',\n",
       " '4929_7.txt',\n",
       " '492_7.txt',\n",
       " '4930_7.txt',\n",
       " '4730_10.txt',\n",
       " '4731_8.txt',\n",
       " '4732_10.txt',\n",
       " '4733_9.txt',\n",
       " '4734_9.txt',\n",
       " '4735_9.txt',\n",
       " '4736_10.txt',\n",
       " '4737_7.txt',\n",
       " '4738_7.txt',\n",
       " '4739_7.txt',\n",
       " '473_9.txt',\n",
       " '4740_8.txt',\n",
       " '4741_7.txt',\n",
       " '4742_9.txt',\n",
       " '4743_8.txt',\n",
       " '4744_9.txt',\n",
       " '4745_7.txt',\n",
       " '4746_8.txt',\n",
       " '4747_8.txt',\n",
       " '4748_7.txt',\n",
       " '4749_8.txt',\n",
       " '474_7.txt',\n",
       " '4750_7.txt',\n",
       " '4751_8.txt',\n",
       " '4752_7.txt',\n",
       " '4753_10.txt',\n",
       " '4754_10.txt',\n",
       " '4755_7.txt',\n",
       " '4756_10.txt',\n",
       " '4757_8.txt',\n",
       " '4758_8.txt',\n",
       " '4759_7.txt',\n",
       " '475_10.txt',\n",
       " '4760_7.txt',\n",
       " '4761_10.txt',\n",
       " '4762_10.txt',\n",
       " '4763_8.txt',\n",
       " '4764_10.txt',\n",
       " '4230_10.txt',\n",
       " '4231_7.txt',\n",
       " '4232_7.txt',\n",
       " '4233_7.txt',\n",
       " '4234_7.txt',\n",
       " '4235_7.txt',\n",
       " '4236_8.txt',\n",
       " '4237_10.txt',\n",
       " '4238_9.txt',\n",
       " '4239_10.txt',\n",
       " '423_10.txt',\n",
       " '4240_9.txt',\n",
       " '4241_10.txt',\n",
       " '4242_9.txt',\n",
       " '4243_8.txt',\n",
       " '4244_10.txt',\n",
       " '4245_7.txt',\n",
       " '4246_8.txt',\n",
       " '4247_10.txt',\n",
       " '4248_10.txt',\n",
       " '4249_10.txt',\n",
       " '424_8.txt',\n",
       " '4250_8.txt',\n",
       " '4251_9.txt',\n",
       " '4252_9.txt',\n",
       " '4253_10.txt',\n",
       " '4060_10.txt',\n",
       " '4061_10.txt',\n",
       " '4062_10.txt',\n",
       " '4063_8.txt',\n",
       " '4064_10.txt',\n",
       " '4065_10.txt',\n",
       " '4066_10.txt',\n",
       " '4067_8.txt',\n",
       " '4068_10.txt',\n",
       " '4069_10.txt',\n",
       " '406_8.txt',\n",
       " '4070_10.txt',\n",
       " '4071_10.txt',\n",
       " '4072_10.txt',\n",
       " '4073_10.txt',\n",
       " '4074_10.txt',\n",
       " '4075_10.txt',\n",
       " '4076_10.txt',\n",
       " '4077_10.txt',\n",
       " '4078_10.txt',\n",
       " '4079_9.txt',\n",
       " '407_10.txt',\n",
       " '4080_10.txt',\n",
       " '4081_10.txt',\n",
       " '4082_10.txt',\n",
       " '4083_10.txt',\n",
       " '4084_7.txt',\n",
       " '4085_10.txt',\n",
       " '4086_7.txt',\n",
       " '4087_10.txt',\n",
       " '4088_7.txt',\n",
       " '4089_8.txt',\n",
       " '408_10.txt',\n",
       " '4090_8.txt',\n",
       " '4091_7.txt',\n",
       " '6130_7.txt',\n",
       " '6131_10.txt',\n",
       " '6132_10.txt',\n",
       " '6133_7.txt',\n",
       " '6134_7.txt',\n",
       " '6135_8.txt',\n",
       " '6136_10.txt',\n",
       " '6137_7.txt',\n",
       " '6138_8.txt',\n",
       " '6139_10.txt',\n",
       " '613_10.txt',\n",
       " '6140_9.txt',\n",
       " '6141_9.txt',\n",
       " '6142_9.txt',\n",
       " '6143_7.txt',\n",
       " '6144_7.txt',\n",
       " '6145_8.txt',\n",
       " '6146_7.txt',\n",
       " '6147_7.txt',\n",
       " '6148_10.txt',\n",
       " '6149_7.txt',\n",
       " '614_10.txt',\n",
       " '6150_7.txt',\n",
       " '6151_7.txt',\n",
       " '6152_10.txt',\n",
       " '6153_7.txt',\n",
       " '6154_10.txt',\n",
       " '5970_10.txt',\n",
       " '5971_7.txt',\n",
       " '5972_8.txt',\n",
       " '5973_9.txt',\n",
       " '5974_7.txt',\n",
       " '5975_8.txt',\n",
       " '5976_7.txt',\n",
       " '5977_8.txt',\n",
       " '5978_9.txt',\n",
       " '5979_9.txt',\n",
       " '597_7.txt',\n",
       " '5980_10.txt',\n",
       " '5981_7.txt',\n",
       " '5982_9.txt',\n",
       " '5983_8.txt',\n",
       " '5984_10.txt',\n",
       " '5985_10.txt',\n",
       " '5986_10.txt',\n",
       " '5987_8.txt',\n",
       " '5988_7.txt',\n",
       " '5989_7.txt',\n",
       " '598_9.txt',\n",
       " '5990_7.txt',\n",
       " '5991_8.txt',\n",
       " '5992_7.txt',\n",
       " '5993_8.txt',\n",
       " '57_10.txt',\n",
       " '5800_10.txt',\n",
       " '5801_10.txt',\n",
       " '5802_10.txt',\n",
       " '5803_10.txt',\n",
       " '5804_10.txt',\n",
       " '5805_9.txt',\n",
       " '5806_7.txt',\n",
       " '5807_8.txt',\n",
       " '5808_10.txt',\n",
       " '5809_10.txt',\n",
       " '580_9.txt',\n",
       " '5810_9.txt',\n",
       " '5811_9.txt',\n",
       " '5812_9.txt',\n",
       " '5813_8.txt',\n",
       " '5814_8.txt',\n",
       " '5815_10.txt',\n",
       " '5816_10.txt',\n",
       " '5817_10.txt',\n",
       " '5818_7.txt',\n",
       " '5819_10.txt',\n",
       " '581_10.txt',\n",
       " '5820_7.txt',\n",
       " '5821_7.txt',\n",
       " '5822_10.txt',\n",
       " '5823_10.txt',\n",
       " '5824_10.txt',\n",
       " '5825_9.txt',\n",
       " '5826_10.txt',\n",
       " '5620_10.txt',\n",
       " '5621_10.txt',\n",
       " '5622_10.txt',\n",
       " '5623_10.txt',\n",
       " '5624_7.txt',\n",
       " '5625_8.txt',\n",
       " '5626_8.txt',\n",
       " '5627_10.txt',\n",
       " '5628_7.txt',\n",
       " '5629_10.txt',\n",
       " '562_8.txt',\n",
       " '5630_8.txt',\n",
       " '5631_8.txt',\n",
       " '5632_8.txt',\n",
       " '5633_8.txt',\n",
       " '5634_8.txt',\n",
       " '5635_7.txt',\n",
       " '5636_10.txt',\n",
       " '5637_10.txt',\n",
       " '5638_10.txt',\n",
       " '5639_7.txt',\n",
       " '563_10.txt',\n",
       " '5640_7.txt',\n",
       " '5641_7.txt',\n",
       " '5642_7.txt',\n",
       " '5643_7.txt',\n",
       " '5644_8.txt',\n",
       " '5645_10.txt',\n",
       " '5646_10.txt',\n",
       " '5647_10.txt',\n",
       " '5450_10.txt',\n",
       " '5451_8.txt',\n",
       " '5452_8.txt',\n",
       " '5453_8.txt',\n",
       " '5454_7.txt',\n",
       " '5455_7.txt',\n",
       " '5456_10.txt',\n",
       " '5457_8.txt',\n",
       " '5458_10.txt',\n",
       " '5459_8.txt',\n",
       " '545_10.txt',\n",
       " '5460_8.txt',\n",
       " '5461_7.txt',\n",
       " '5462_8.txt',\n",
       " '5463_9.txt',\n",
       " '5464_7.txt',\n",
       " '5465_8.txt',\n",
       " '5466_8.txt',\n",
       " '5467_9.txt',\n",
       " '5468_7.txt',\n",
       " '5469_7.txt',\n",
       " '546_10.txt',\n",
       " '5470_10.txt',\n",
       " '5471_8.txt',\n",
       " '5472_7.txt',\n",
       " '5473_8.txt',\n",
       " '5474_9.txt',\n",
       " '5475_8.txt',\n",
       " '5476_8.txt',\n",
       " '5477_7.txt',\n",
       " '5478_9.txt',\n",
       " '5479_10.txt',\n",
       " '547_10.txt',\n",
       " '5480_10.txt',\n",
       " '5280_8.txt',\n",
       " '5281_10.txt',\n",
       " '5282_10.txt',\n",
       " '5283_7.txt',\n",
       " '5284_9.txt',\n",
       " '5285_7.txt',\n",
       " '5286_10.txt',\n",
       " '5287_8.txt',\n",
       " '5288_7.txt',\n",
       " '5289_10.txt',\n",
       " '528_9.txt',\n",
       " '5290_10.txt',\n",
       " '5291_8.txt',\n",
       " '5292_7.txt',\n",
       " '5293_8.txt',\n",
       " '5294_8.txt',\n",
       " '5295_8.txt',\n",
       " '5296_10.txt',\n",
       " '5297_8.txt',\n",
       " '5298_8.txt',\n",
       " '5299_8.txt',\n",
       " '529_10.txt',\n",
       " '52_10.txt',\n",
       " '5300_8.txt',\n",
       " '5301_8.txt',\n",
       " '5302_9.txt',\n",
       " '5303_10.txt',\n",
       " '5304_10.txt',\n",
       " '5305_7.txt',\n",
       " '5306_7.txt',\n",
       " '5307_7.txt',\n",
       " '5308_10.txt',\n",
       " '5309_7.txt',\n",
       " '530_10.txt',\n",
       " '5310_10.txt',\n",
       " '5311_7.txt',\n",
       " '5312_7.txt',\n",
       " '5313_7.txt',\n",
       " '7200_9.txt',\n",
       " '7201_8.txt',\n",
       " '7202_8.txt',\n",
       " '7203_9.txt',\n",
       " '7204_8.txt',\n",
       " '7205_10.txt',\n",
       " '7206_9.txt',\n",
       " '7207_7.txt',\n",
       " '7208_7.txt',\n",
       " '7209_8.txt',\n",
       " '720_7.txt',\n",
       " '7210_8.txt',\n",
       " '7211_10.txt',\n",
       " '7212_9.txt',\n",
       " '7213_10.txt',\n",
       " '7214_7.txt',\n",
       " '7215_7.txt',\n",
       " '7216_10.txt',\n",
       " '7217_7.txt',\n",
       " '7218_9.txt',\n",
       " '7219_7.txt',\n",
       " '7570_10.txt',\n",
       " '7571_8.txt',\n",
       " '7572_10.txt',\n",
       " '7573_9.txt',\n",
       " '7574_10.txt',\n",
       " '7575_10.txt',\n",
       " '7576_10.txt',\n",
       " '7577_8.txt',\n",
       " '7578_8.txt',\n",
       " '7579_8.txt',\n",
       " '757_8.txt',\n",
       " '7580_7.txt',\n",
       " '7581_8.txt',\n",
       " '7582_8.txt',\n",
       " '7583_7.txt',\n",
       " '7584_7.txt',\n",
       " '7585_8.txt',\n",
       " '7586_10.txt',\n",
       " '7587_9.txt',\n",
       " '7588_8.txt',\n",
       " '7589_8.txt',\n",
       " '758_9.txt',\n",
       " '7590_10.txt',\n",
       " '7591_8.txt',\n",
       " '7592_9.txt',\n",
       " '7593_7.txt',\n",
       " '7594_8.txt',\n",
       " '7595_10.txt',\n",
       " '73_7.txt',\n",
       " '7400_9.txt',\n",
       " '7401_9.txt',\n",
       " '7402_8.txt',\n",
       " '7403_8.txt',\n",
       " '7404_9.txt',\n",
       " '7405_10.txt',\n",
       " '7406_9.txt',\n",
       " '7407_10.txt',\n",
       " '7408_8.txt',\n",
       " '7409_10.txt',\n",
       " '740_7.txt',\n",
       " '7410_7.txt',\n",
       " '7411_10.txt',\n",
       " '7412_9.txt',\n",
       " '7413_9.txt',\n",
       " '7414_8.txt',\n",
       " '7415_8.txt',\n",
       " '7416_9.txt',\n",
       " '7417_10.txt',\n",
       " '7418_8.txt',\n",
       " '7419_10.txt',\n",
       " '741_7.txt',\n",
       " '7030_10.txt',\n",
       " '7031_10.txt',\n",
       " '7032_10.txt',\n",
       " '7033_7.txt',\n",
       " '7034_10.txt',\n",
       " '7035_8.txt',\n",
       " '7036_10.txt',\n",
       " '7037_10.txt',\n",
       " '7038_9.txt',\n",
       " '7039_7.txt',\n",
       " '703_10.txt',\n",
       " '7040_10.txt',\n",
       " '7041_7.txt',\n",
       " '7042_10.txt',\n",
       " '7043_7.txt',\n",
       " '7044_10.txt',\n",
       " '7045_10.txt',\n",
       " '7046_7.txt',\n",
       " '7047_10.txt',\n",
       " '7048_10.txt',\n",
       " '7049_7.txt',\n",
       " '704_10.txt',\n",
       " '7050_7.txt',\n",
       " '6870_8.txt',\n",
       " '6871_8.txt',\n",
       " '6872_7.txt',\n",
       " '6873_10.txt',\n",
       " '6874_8.txt',\n",
       " '6875_10.txt',\n",
       " '6876_8.txt',\n",
       " '6877_7.txt',\n",
       " '6878_8.txt',\n",
       " '6879_10.txt',\n",
       " '687_9.txt',\n",
       " '6880_7.txt',\n",
       " '6881_9.txt',\n",
       " '6882_9.txt',\n",
       " '6883_9.txt',\n",
       " '6884_10.txt',\n",
       " '6885_9.txt',\n",
       " '6886_8.txt',\n",
       " '6887_8.txt',\n",
       " '6888_9.txt',\n",
       " '6889_10.txt',\n",
       " '688_9.txt',\n",
       " '66_8.txt',\n",
       " '6700_8.txt',\n",
       " '6701_9.txt',\n",
       " '6702_8.txt',\n",
       " '6703_8.txt',\n",
       " '6704_9.txt',\n",
       " '6705_10.txt',\n",
       " '6706_8.txt',\n",
       " '6707_9.txt',\n",
       " '6708_10.txt',\n",
       " '6709_10.txt',\n",
       " '670_7.txt',\n",
       " '6710_10.txt',\n",
       " '6711_10.txt',\n",
       " '6712_9.txt',\n",
       " '6713_10.txt',\n",
       " '6714_10.txt',\n",
       " '6715_10.txt',\n",
       " '6716_8.txt',\n",
       " '6717_7.txt',\n",
       " '6718_10.txt',\n",
       " '6719_8.txt',\n",
       " '671_7.txt',\n",
       " '6720_9.txt',\n",
       " '6721_10.txt',\n",
       " '6722_9.txt',\n",
       " '6520_7.txt',\n",
       " '6521_7.txt',\n",
       " '6522_10.txt',\n",
       " '6523_10.txt',\n",
       " '6524_8.txt',\n",
       " '6525_7.txt',\n",
       " '6526_7.txt',\n",
       " '6527_8.txt',\n",
       " '6528_9.txt',\n",
       " '6529_7.txt',\n",
       " '652_10.txt',\n",
       " '6530_8.txt',\n",
       " '6531_8.txt',\n",
       " '6532_8.txt',\n",
       " '6533_7.txt',\n",
       " '6534_10.txt',\n",
       " '6535_10.txt',\n",
       " '6536_7.txt',\n",
       " '6537_7.txt',\n",
       " '6538_8.txt',\n",
       " ...]"
      ]
     },
     "execution_count": 6,
     "metadata": {},
     "output_type": "execute_result"
    }
   ],
   "source": [
    "txt_dir = os.path.join(train_dir, 'pos')\n",
    "os.listdir(txt_dir)"
   ]
  },
  {
   "cell_type": "code",
   "execution_count": 7,
   "metadata": {
    "colab": {
     "base_uri": "https://localhost:8080/",
     "height": 54
    },
    "colab_type": "code",
    "id": "-wA0hfWVXaYA",
    "outputId": "3f9134fa-41a4-4d44-ae18-b67dfff934cb"
   },
   "outputs": [
    {
     "name": "stdout",
     "output_type": "stream",
     "text": [
      "This is a very fine and poetic story. Beautiful scenery. Magnificent music score. I've been twice in Japan last year and the movie gave me this typical Japanese feeling. The movement of the camera is superb, as well as the actors. It goes deep into your feelings without becoming melodramatic. Japanese people are very sensitive and kind and it's all very well brought onto the screen here. The director is playing superb with light an colors and shows the audience that it is also possible to let them enjoy a movie with subtle and fine details. Once you've seen this movie you will want to see more from the same director. It's a real feel good movie and I can only recommend it to everybody.\n"
     ]
    }
   ],
   "source": [
    "sample_file = os.path.join(train_dir, 'pos/12346_10.txt')\n",
    "with open(sample_file) as f:\n",
    "  print(f.read())"
   ]
  },
  {
   "cell_type": "markdown",
   "metadata": {},
   "source": [
    "### Load the dataset"
   ]
  },
  {
   "cell_type": "markdown",
   "metadata": {},
   "source": [
    "* remove unsup folder"
   ]
  },
  {
   "cell_type": "code",
   "execution_count": 13,
   "metadata": {},
   "outputs": [],
   "source": [
    "remove_dir = os.path.join(train_dir, 'unsup')\n",
    "shutil.rmtree(remove_dir)"
   ]
  },
  {
   "cell_type": "markdown",
   "metadata": {},
   "source": [
    "* use validation_split argument to create a validation set "
   ]
  },
  {
   "cell_type": "code",
   "execution_count": 14,
   "metadata": {},
   "outputs": [
    {
     "name": "stdout",
     "output_type": "stream",
     "text": [
      "Found 25000 files belonging to 2 classes.\n",
      "Using 20000 files for training.\n"
     ]
    }
   ],
   "source": [
    "batch_size = 32\n",
    "seed = 42\n",
    "\n",
    "raw_train_ds = tf.keras.preprocessing.text_dataset_from_directory(\n",
    "    '/media/veec20/Data/duongdq/TF_tutorial/aclImdb/train',\n",
    "    batch_size = batch_size,\n",
    "    validation_split = 0.2,\n",
    "    subset='training',\n",
    "    seed = seed\n",
    ")"
   ]
  },
  {
   "cell_type": "markdown",
   "metadata": {},
   "source": [
    "* iterate over the dataset and print out a few samples as follows"
   ]
  },
  {
   "cell_type": "code",
   "execution_count": 21,
   "metadata": {},
   "outputs": [
    {
     "name": "stdout",
     "output_type": "stream",
     "text": [
      "review b'Recipe for one of the worst movies of all time: a she-male villain who looks like it escaped from the WWF, has terrible aim with a gun that has inconsistent effects (the first guy she shoots catches on fire but when she shoots anyone else they just disappear) and takes time out to pet a deer. Then you got the unlikable characters, 30 year old college students, a lame attempt at a surprise ending and lots, lots more. Avoid at all costs.'\n",
      "label 0\n",
      "review b\"Icy and lethal ace hit-man Tony Arzenta (a divinely smooth and commanding performance by Alain Delon) wants to quit the assassination business, but the dangerous mobsters he works for won't let him. After his wife and child are killed, Arzenta declares open season on everyone responsible for their deaths. Director Duccio Tessari relates the absorbing story at a constant snappy pace, maintains a properly serious and no-nonsense tone throughout, stages the stirring shoot-outs and exciting car chases with considerable rip-snorting brio, and punctuates the narrative with jolting outbursts of explosive bloody violence. Delon's suave and charismatic presence adds extra class to the already engrossing proceedings. This film further benefits from sterling acting by a bang-up cast, with praiseworthy contributions by Richard Conte as wise Mafia kingpin Nick Gusto, Carla Gravini as Arzenta's supportive lady friend Sandra, Marc Porel as Arzenta's loyal pal Domenico Maggio, Anton Diffring as ruthless, calculating capo Grunwald, and Lino Troisi as the venomous gangster Rocco Cutitta. Silvano Ippoliti's glossy cinematography boasts several graceful pans. Gianni Ferrio's funky score hits the get-down groovy spot. Erika Blanc and Rosalba Neri pop up briefly in nifty bit parts. Better still, there's no filler to speak of and we even get a decent dab of tasty gratuitous female nudity. The startling conclusion packs a mean and lingering wallop right to the gut. A solid and satisfying winner.\"\n",
      "label 1\n",
      "review b\"An OUR GANG Comedy Short.<br /><br />The Gang coerces Spanky into watching their younger siblings. Caring for these FORGOTTEN BABIES turns out to be quite a chore, leaving the little nipper with no choice but to come up with some ingenious solutions to the baby-sitting problem...<br /><br />Spanky is in his glory in this hilarious little film, arguably his best. Highlight: Spanky's retelling the plot of the TARZAN movie he's recently seen to the audience of infants. Movie mavens will recognize Billy Gilbert's voice in the radio drama.\"\n",
      "label 1\n"
     ]
    }
   ],
   "source": [
    "for text_batch, label_batch in raw_train_ds.take(1):\n",
    "    for i in range(3):\n",
    "        print('review', text_batch.numpy()[i])\n",
    "        print('label', label_batch.numpy()[i])"
   ]
  },
  {
   "cell_type": "markdown",
   "metadata": {},
   "source": [
    "* check which label 0 and 1 correspond to positive and negative movie reviews"
   ]
  },
  {
   "cell_type": "markdown",
   "metadata": {},
   "source": [
    "print(raw_train_ds.class_names[0])  # neg\n",
    "print(raw_train_ds.class_names[1])  # pos"
   ]
  },
  {
   "cell_type": "markdown",
   "metadata": {},
   "source": [
    "* create validation and test set"
   ]
  },
  {
   "cell_type": "code",
   "execution_count": 24,
   "metadata": {},
   "outputs": [
    {
     "name": "stdout",
     "output_type": "stream",
     "text": [
      "Found 25000 files belonging to 2 classes.\n",
      "Using 5000 files for validation.\n"
     ]
    }
   ],
   "source": [
    "raw_val_ds = tf.keras.preprocessing.text_dataset_from_directory(\n",
    "    '/media/veec20/Data/duongdq/TF_tutorial/aclImdb/train',\n",
    "    batch_size = batch_size,\n",
    "    validation_split = 0.2,\n",
    "    subset='validation',\n",
    "    seed = seed\n",
    ")"
   ]
  },
  {
   "cell_type": "code",
   "execution_count": 25,
   "metadata": {},
   "outputs": [
    {
     "name": "stdout",
     "output_type": "stream",
     "text": [
      "Found 25000 files belonging to 2 classes.\n"
     ]
    }
   ],
   "source": [
    "raw_test_ds = tf.keras.preprocessing.text_dataset_from_directory(\n",
    "    '/media/veec20/Data/duongdq/TF_tutorial/aclImdb/test',\n",
    "    batch_size = batch_size\n",
    ")"
   ]
  },
  {
   "cell_type": "markdown",
   "metadata": {},
   "source": [
    "### Prepare the dataset for training"
   ]
  },
  {
   "cell_type": "markdown",
   "metadata": {},
   "source": [
    "### Configure the dataset for performance"
   ]
  },
  {
   "cell_type": "markdown",
   "metadata": {},
   "source": [
    "### Create the model"
   ]
  },
  {
   "cell_type": "markdown",
   "metadata": {},
   "source": [
    "### Loss function and optimizer"
   ]
  },
  {
   "cell_type": "markdown",
   "metadata": {},
   "source": [
    "### Train the model"
   ]
  },
  {
   "cell_type": "markdown",
   "metadata": {},
   "source": [
    "### Evaluate the model"
   ]
  },
  {
   "cell_type": "markdown",
   "metadata": {},
   "source": [
    "### Create a plot of accuracy and loss over time"
   ]
  },
  {
   "cell_type": "markdown",
   "metadata": {},
   "source": [
    "### Export the model"
   ]
  },
  {
   "cell_type": "markdown",
   "metadata": {
    "colab_type": "text",
    "id": "dJvf-hsLUZNr"
   },
   "source": [
    "## Text classification with TF Hub"
   ]
  },
  {
   "cell_type": "markdown",
   "metadata": {
    "colab_type": "text",
    "id": "SN8RPmHmUfB1"
   },
   "source": [
    "## Regression"
   ]
  },
  {
   "cell_type": "markdown",
   "metadata": {
    "colab_type": "text",
    "id": "IAYdKIpOUe8E"
   },
   "source": [
    "## Overfit and Underfit"
   ]
  },
  {
   "cell_type": "markdown",
   "metadata": {
    "colab_type": "text",
    "id": "7Co1Vll_Ue0-"
   },
   "source": [
    "## Save and Load"
   ]
  },
  {
   "cell_type": "markdown",
   "metadata": {
    "colab_type": "text",
    "id": "5Cq8WVRkUoS-"
   },
   "source": [
    "## Tune hyperparameters with the Keras Tuner"
   ]
  },
  {
   "cell_type": "markdown",
   "metadata": {
    "colab_type": "text",
    "id": "_wxaQTHD92zy"
   },
   "source": [
    "# Load and prepared data"
   ]
  },
  {
   "cell_type": "markdown",
   "metadata": {
    "colab_type": "text",
    "id": "SyHgQfEu96ch"
   },
   "source": [
    "# Estimator"
   ]
  },
  {
   "cell_type": "code",
   "execution_count": null,
   "metadata": {
    "colab": {},
    "colab_type": "code",
    "id": "oEmfn_7y9lkR"
   },
   "outputs": [],
   "source": []
  }
 ],
 "metadata": {
  "accelerator": "GPU",
  "colab": {
   "name": "for_bebinners.ipynb",
   "provenance": []
  },
  "kernelspec": {
   "display_name": "Python 3",
   "language": "python",
   "name": "python3"
  },
  "language_info": {
   "codemirror_mode": {
    "name": "ipython",
    "version": 3
   },
   "file_extension": ".py",
   "mimetype": "text/x-python",
   "name": "python",
   "nbconvert_exporter": "python",
   "pygments_lexer": "ipython3",
   "version": "3.6.9"
  }
 },
 "nbformat": 4,
 "nbformat_minor": 1
}
